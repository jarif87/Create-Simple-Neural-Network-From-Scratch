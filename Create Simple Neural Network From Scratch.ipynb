{
 "cells": [
  {
   "attachments": {},
   "cell_type": "markdown",
   "metadata": {},
   "source": [
    "# Import Necassary Library"
   ]
  },
  {
   "cell_type": "code",
   "execution_count": 199,
   "metadata": {},
   "outputs": [],
   "source": [
    "from sklearn.preprocessing import MinMaxScaler\n",
    "import numpy as np\n",
    "import matplotlib.pyplot as plt\n",
    "import numpy as np\n",
    "from tensorflow.keras.models import Sequential\n",
    "from tensorflow.keras.layers import Dense\n",
    "%matplotlib inline"
   ]
  },
  {
   "attachments": {},
   "cell_type": "markdown",
   "metadata": {},
   "source": [
    "# Input Train Data And Output Data"
   ]
  },
  {
   "cell_type": "code",
   "execution_count": 200,
   "metadata": {},
   "outputs": [],
   "source": [
    "input_train_data=np.array([[0,1,0],\n",
    "                  [1,0,1],\n",
    "                  [1,0,1],\n",
    "                  [1,20,0],\n",
    "                  [20,0,1],\n",
    "                  [1,1,20]])\n",
    "\n",
    "output_train_data=np.array([[0],[0],[0],[1],[1],[1]])\n",
    "\n",
    "input_data_prediction=np.array([1,1,0])"
   ]
  },
  {
   "cell_type": "code",
   "execution_count": 201,
   "metadata": {},
   "outputs": [],
   "source": [
    "input_test_data=np.array([[0,1,0],\n",
    "                        [1,1,0],\n",
    "                        [20,1,0],\n",
    "                        [0,1,1],\n",
    "                        [20,0,1],\n",
    "                        [1,0,20]])\n",
    "\n",
    "output_test_data=np.array([[0],[0],[0],[1],[1],[1]])"
   ]
  },
  {
   "cell_type": "code",
   "execution_count": 202,
   "metadata": {},
   "outputs": [],
   "source": [
    "scale=MinMaxScaler()\n",
    "input_scale_train_data=scale.fit_transform(input_train_data)\n",
    "input_scale_test_data=scale.fit_transform(input_test_data)\n",
    "output_scale_train_data=scale.fit_transform(output_train_data)\n",
    "output_scale_test_data=scale.fit_transform(output_test_data)"
   ]
  },
  {
   "attachments": {},
   "cell_type": "markdown",
   "metadata": {},
   "source": [
    "# Scale Data Max Value"
   ]
  },
  {
   "cell_type": "code",
   "execution_count": 203,
   "metadata": {},
   "outputs": [
    {
     "data": {
      "text/plain": [
       "1.0"
      ]
     },
     "execution_count": 203,
     "metadata": {},
     "output_type": "execute_result"
    }
   ],
   "source": [
    "input_scale_train_data.max()"
   ]
  },
  {
   "attachments": {},
   "cell_type": "markdown",
   "metadata": {},
   "source": [
    "# Scale Data Min Value"
   ]
  },
  {
   "cell_type": "code",
   "execution_count": 204,
   "metadata": {},
   "outputs": [
    {
     "data": {
      "text/plain": [
       "0.0"
      ]
     },
     "execution_count": 204,
     "metadata": {},
     "output_type": "execute_result"
    }
   ],
   "source": [
    "input_scale_train_data.min()"
   ]
  },
  {
   "attachments": {},
   "cell_type": "markdown",
   "metadata": {},
   "source": [
    "# Data After Scaling"
   ]
  },
  {
   "cell_type": "code",
   "execution_count": 205,
   "metadata": {},
   "outputs": [
    {
     "name": "stdout",
     "output_type": "stream",
     "text": [
      "Input Train  Scale Data : [[0.   0.05 0.  ]\n",
      " [0.05 0.   0.05]\n",
      " [0.05 0.   0.05]\n",
      " [0.05 1.   0.  ]\n",
      " [1.   0.   0.05]\n",
      " [0.05 0.05 1.  ]]\n"
     ]
    }
   ],
   "source": [
    "print(\"Input Train  Scale Data :\",input_scale_train_data)"
   ]
  },
  {
   "cell_type": "code",
   "execution_count": 206,
   "metadata": {},
   "outputs": [
    {
     "name": "stdout",
     "output_type": "stream",
     "text": [
      "Input Test  Scale Data : [[0.   1.   0.  ]\n",
      " [0.05 1.   0.  ]\n",
      " [1.   1.   0.  ]\n",
      " [0.   1.   0.05]\n",
      " [1.   0.   0.05]\n",
      " [0.05 0.   1.  ]]\n"
     ]
    }
   ],
   "source": [
    "print(\"Input Test  Scale Data :\",input_scale_test_data)"
   ]
  },
  {
   "cell_type": "code",
   "execution_count": 207,
   "metadata": {},
   "outputs": [
    {
     "name": "stdout",
     "output_type": "stream",
     "text": [
      "Output Scale Train Data : [[0.]\n",
      " [0.]\n",
      " [0.]\n",
      " [1.]\n",
      " [1.]\n",
      " [1.]]\n"
     ]
    }
   ],
   "source": [
    "print(\"Output Scale Train Data :\",output_scale_train_data)"
   ]
  },
  {
   "cell_type": "code",
   "execution_count": 208,
   "metadata": {},
   "outputs": [
    {
     "name": "stdout",
     "output_type": "stream",
     "text": [
      "Output Scale Test Data : [[0.]\n",
      " [0.]\n",
      " [0.]\n",
      " [1.]\n",
      " [1.]\n",
      " [1.]]\n"
     ]
    }
   ],
   "source": [
    "print(\"Output Scale Test Data :\",output_scale_test_data)"
   ]
  },
  {
   "attachments": {},
   "cell_type": "markdown",
   "metadata": {},
   "source": [
    "# Create Neural Network"
   ]
  },
  {
   "cell_type": "code",
   "execution_count": 209,
   "metadata": {},
   "outputs": [],
   "source": [
    "class NeuralNetwork():\n",
    "    def __init__(self):\n",
    "        \n",
    "        self.inputsize=3\n",
    "        self.hiddensize=3\n",
    "        self.outputsize=1\n",
    "        \n",
    "        self.w1=np.random.rand(self.inputsize,self.hiddensize)\n",
    "        self.w2=np.random.rand(self.hiddensize,self.outputsize)\n",
    "        self.limit=0.5\n",
    "        \n",
    "        self.error_list=[]\n",
    "        \n",
    "        self.true_positive=0\n",
    "        self.true_negative=0\n",
    "        self.false_positive=0\n",
    "        self.false_negative=0\n",
    "    \n",
    "    def forward(self,x):\n",
    "        self.z=np.matmul(x,self.w1)\n",
    "        self.z2=self.sigmoid(self.z)\n",
    "        self.z3=np.matmul(self.z,self.w2)\n",
    "        o = self.sigmoid(self.z3)\n",
    "        return o\n",
    "        \n",
    "    def sigmoid(self,s):\n",
    "        return 1/(1+np.exp(-s))\n",
    "    \n",
    "    def sigmoidprime(self,s):\n",
    "        return s*(1-s)\n",
    "    \n",
    "    \n",
    "    def backward(self,x,y,o):\n",
    "        self.o_error=y-o\n",
    "        self.o_delta=self.o_error*self.sigmoidprime(o)\n",
    "        self.z2_error=np.matmul(self.o_delta,np.matrix.transpose(self.w2))\n",
    "        self.z2_delta=self.z2_error*self.sigmoidprime(self.z2_error)\n",
    "        self.w1 +=np.matmul(np.matrix.transpose(x),self.z2_delta)\n",
    "        self.w2 +=np.matmul(np.matrix.transpose(self.z),self.o_delta)\n",
    "        \n",
    "    def train(self,x,y,epochs):\n",
    "        for epoch in range(epochs):\n",
    "            o=self.forward(x)\n",
    "            self.backward(x,y,o)\n",
    "            self.error_list.append(np.abs(self.o_error).mean())\n",
    "            \n",
    "        \n",
    "        \n",
    "    def predict(self,test_data):\n",
    "        return self.forward(test_data).item()\n",
    "    \n",
    "    \n",
    "    \n",
    "    def visualize_error(self):\n",
    "        plt.figure(figsize=(10,10))\n",
    "        plt.plot(range(len(self.error_list)),self.error_list)\n",
    "        plt.title(\"Error Visualization\",fontsize=15,color=\"darkorange\")\n",
    "        plt.xlabel(\"Epochs\")\n",
    "        plt.ylabel(\"Loss\")\n",
    "        plt.show()\n",
    "    \n",
    "    def evaluate(self,input_data,output_data):\n",
    "        \n",
    "        for i,test_evaluation in enumerate(input_data):\n",
    "            if self.predict(test_evaluation)>self.limit and output_data[i]==1:\n",
    "                self.true_positive +=1\n",
    "                \n",
    "            if self.predict(test_evaluation)<self.limit and output_data[i]==1:\n",
    "                self.true_negative +=1\n",
    "            \n",
    "            if self.predict(test_evaluation)>self.limit and output_data[i]==0:\n",
    "                self.false_positive +=1\n",
    "                \n",
    "            if self.predict(test_evaluation)<self.limit and output_data[i]==0:\n",
    "                self.false_negative +=1\n",
    "        \n",
    "        \n",
    "        print(\"True Positive Values:\", self.true_positive)\n",
    "        print(\"True negatives Values:\", self.true_negative)\n",
    "        print(\"False Positive Values:\", self.false_positive)\n",
    "        print(\"False negatives Values\", self.false_negative)\n",
    "        \n",
    "        \n",
    "    \n",
    "    \n",
    "    \n",
    "    \n",
    "        \n",
    "        \n",
    "        \n",
    "        \n",
    "\n",
    "        \n",
    "        "
   ]
  },
  {
   "cell_type": "code",
   "execution_count": 210,
   "metadata": {},
   "outputs": [
    {
     "data": {
      "image/png": "[encoded data removed]",
      "text/plain": [
       "<Figure size 720x720 with 1 Axes>"
      ]
     },
     "metadata": {
      "needs_background": "light"
     },
     "output_type": "display_data"
    },
    {
     "name": "stdout",
     "output_type": "stream",
     "text": [
      "True Positive Values: 3\n",
      "True negatives Values: 0\n",
      "False Positive Values: 3\n",
      "False negatives Values 0\n"
     ]
    }
   ],
   "source": [
    "Network = NeuralNetwork()\n",
    "Network.train(input_scale_train_data, output_scale_train_data, 80)\n",
    "Network.predict(input_data_prediction)\n",
    "Network.visualize_error()\n",
    "Network.evaluate(input_scale_test_data, output_scale_test_data)"
   ]
  },
  {
   "cell_type": "code",
   "execution_count": null,
   "metadata": {},
   "outputs": [],
   "source": []
  },
  {
   "attachments": {},
   "cell_type": "markdown",
   "metadata": {},
   "source": [
    "#  Create New Model"
   ]
  },
  {
   "cell_type": "code",
   "execution_count": 211,
   "metadata": {},
   "outputs": [],
   "source": [
    "train_data = np.array([[0, 0], [0, 1], [1, 0], [1, 1]], 'float32') \n",
    "test_data= np.array([[0], [1], [1], [0]], 'float32')"
   ]
  },
  {
   "cell_type": "code",
   "execution_count": 212,
   "metadata": {},
   "outputs": [
    {
     "name": "stdout",
     "output_type": "stream",
     "text": [
      "Model: \"sequential_2\"\n",
      "_________________________________________________________________\n",
      " Layer (type)                Output Shape              Param #   \n",
      "=================================================================\n",
      " dense_4 (Dense)             (None, 32)                96        \n",
      "                                                                 \n",
      " dense_5 (Dense)             (None, 1)                 33        \n",
      "                                                                 \n",
      "=================================================================\n",
      "Total params: 129\n",
      "Trainable params: 129\n",
      "Non-trainable params: 0\n",
      "_________________________________________________________________\n"
     ]
    }
   ],
   "source": [
    "model = Sequential()\n",
    "\n",
    "model.add(Dense(32, input_dim = 2, activation = 'relu'))\n",
    "model.add(Dense(1, activation = 'sigmoid'))\n",
    "model.compile(loss = 'mean_squared_error',optimizer = 'adam',metrics = ['binary_accuracy'])\n",
    "model.summary()"
   ]
  },
  {
   "cell_type": "code",
   "execution_count": 213,
   "metadata": {},
   "outputs": [
    {
     "name": "stdout",
     "output_type": "stream",
     "text": [
      "Epoch 1/10\n",
      "1/1 [==============================] - 2s 2s/step - loss: 0.2633 - binary_accuracy: 0.5000\n",
      "Epoch 2/10\n",
      "1/1 [==============================] - 0s 8ms/step - loss: 0.2627 - binary_accuracy: 0.2500\n",
      "Epoch 3/10\n",
      "1/1 [==============================] - 0s 13ms/step - loss: 0.2621 - binary_accuracy: 0.2500\n",
      "Epoch 4/10\n",
      "1/1 [==============================] - 0s 10ms/step - loss: 0.2616 - binary_accuracy: 0.2500\n",
      "Epoch 5/10\n",
      "1/1 [==============================] - 0s 7ms/step - loss: 0.2610 - binary_accuracy: 0.2500\n",
      "Epoch 6/10\n",
      "1/1 [==============================] - 0s 6ms/step - loss: 0.2605 - binary_accuracy: 0.5000\n",
      "Epoch 7/10\n",
      "1/1 [==============================] - 0s 7ms/step - loss: 0.2599 - binary_accuracy: 0.5000\n",
      "Epoch 8/10\n",
      "1/1 [==============================] - 0s 25ms/step - loss: 0.2594 - binary_accuracy: 0.5000\n",
      "Epoch 9/10\n",
      "1/1 [==============================] - 0s 10ms/step - loss: 0.2589 - binary_accuracy: 0.5000\n",
      "Epoch 10/10\n",
      "1/1 [==============================] - 0s 12ms/step - loss: 0.2584 - binary_accuracy: 0.5000\n"
     ]
    },
    {
     "data": {
      "text/plain": [
       "<keras.callbacks.History at 0x1ff6f3c8f10>"
      ]
     },
     "execution_count": 213,
     "metadata": {},
     "output_type": "execute_result"
    }
   ],
   "source": [
    "\n",
    "model.fit(train_data, test_data, epochs = 10)"
   ]
  },
  {
   "attachments": {},
   "cell_type": "markdown",
   "metadata": {},
   "source": [
    "# Model Evaluate"
   ]
  },
  {
   "cell_type": "code",
   "execution_count": 214,
   "metadata": {},
   "outputs": [
    {
     "name": "stdout",
     "output_type": "stream",
     "text": [
      "1/1 [==============================] - 0s 407ms/step - loss: 0.2579 - binary_accuracy: 0.5000\n"
     ]
    }
   ],
   "source": [
    "result = model.evaluate(train_data, test_data)"
   ]
  },
  {
   "cell_type": "code",
   "execution_count": 215,
   "metadata": {},
   "outputs": [
    {
     "name": "stdout",
     "output_type": "stream",
     "text": [
      "[0.25787919759750366, 0.5]\n"
     ]
    }
   ],
   "source": [
    "print(result)"
   ]
  },
  {
   "cell_type": "code",
   "execution_count": 216,
   "metadata": {},
   "outputs": [
    {
     "data": {
      "text/plain": [
       "array([[0.50411963],\n",
       "       [0.44883266],\n",
       "       [0.509014  ],\n",
       "       [0.48221108]], dtype=float32)"
      ]
     },
     "execution_count": 216,
     "metadata": {},
     "output_type": "execute_result"
    }
   ],
   "source": [
    "model.predict(train_data.round())"
   ]
  },
  {
   "cell_type": "code",
   "execution_count": null,
   "metadata": {},
   "outputs": [],
   "source": []
  },
  {
   "cell_type": "code",
   "execution_count": null,
   "metadata": {},
   "outputs": [],
   "source": []
  },
  {
   "cell_type": "code",
   "execution_count": null,
   "metadata": {},
   "outputs": [],
   "source": []
  },
  {
   "cell_type": "code",
   "execution_count": null,
   "metadata": {},
   "outputs": [],
   "source": []
  },
  {
   "cell_type": "code",
   "execution_count": null,
   "metadata": {},
   "outputs": [],
   "source": []
  }
 ],
 "metadata": {
  "kernelspec": {
   "display_name": "Python 3",
   "language": "python",
   "name": "python3"
  },
  "language_info": {
   "codemirror_mode": {
    "name": "ipython",
    "version": 3
   },
   "file_extension": ".py",
   "mimetype": "text/x-python",
   "name": "python",
   "nbconvert_exporter": "python",
   "pygments_lexer": "ipython3",
   "version": "3.9.1"
  },
  "orig_nbformat": 4,
  "vscode": {
   "interpreter": {
    "hash": "f6246b25e200e4c5124e3e61789ac81350562f0761bbcf92ad9e48654207659c"
   }
  }
 },
 "nbformat": 4,
 "nbformat_minor": 2
}
